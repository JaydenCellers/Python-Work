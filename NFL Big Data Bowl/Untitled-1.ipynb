{
 "cells": [
  {
   "cell_type": "markdown",
   "metadata": {},
   "source": [
    "# NFL Big Data Bowl 2023: Linemen on Pass Plays [Competition Details](https://www.kaggle.com/competitions/nfl-big-data-bowl-2023/overview)\n",
    "Key objective: \"You’ll create new metrics and stats for America's most popular sports league. Notebook submissions will be scored based on five components: innovation, accuracy, relevance, clarity, and data visualization.\"\n",
    " "
   ]
  },
  {
   "cell_type": "code",
   "execution_count": 2,
   "metadata": {},
   "outputs": [],
   "source": [
    "# Importing useful packages\n",
    "import pandas as pd\n",
    "import numpy as np\n",
    "import pyspark\n",
    "from pyspark.sql import SparkSession"
   ]
  },
  {
   "cell_type": "code",
   "execution_count": 3,
   "metadata": {},
   "outputs": [],
   "source": [
    "spark = SparkSession.builder.appName('NFL').getOrCreate()"
   ]
  },
  {
   "cell_type": "code",
   "execution_count": 4,
   "metadata": {},
   "outputs": [],
   "source": [
    "# Let's read some of the data sets\n",
    "players = spark.read.option('header', 'true').csv('players.csv', inferSchema=True)"
   ]
  },
  {
   "cell_type": "code",
   "execution_count": 11,
   "metadata": {},
   "outputs": [
    {
     "name": "stdout",
     "output_type": "stream",
     "text": [
      "+-----+------+------+----------+-----------+----------------+------------------+\n",
      "|nflId|height|weight| birthDate|collegeName|officialPosition|       displayName|\n",
      "+-----+------+------+----------+-----------+----------------+------------------+\n",
      "|25511|   6-4|   225|1977-08-03|   Michigan|              QB|         Tom Brady|\n",
      "|28963|   6-5|   240|1982-03-02|  Miami, O.|              QB|Ben Roethlisberger|\n",
      "|29550|   6-4|   328|1982-01-22|   Arkansas|               T|      Jason Peters|\n",
      "|29851|   6-2|   225|1983-12-02| California|              QB|     Aaron Rodgers|\n",
      "|30078|   6-2|   228|1982-11-24|    Harvard|              QB|  Ryan Fitzpatrick|\n",
      "+-----+------+------+----------+-----------+----------------+------------------+\n",
      "only showing top 5 rows\n",
      "\n"
     ]
    }
   ],
   "source": [
    "players.show(5)"
   ]
  },
  {
   "cell_type": "code",
   "execution_count": 14,
   "metadata": {},
   "outputs": [
    {
     "data": {
      "text/plain": [
       "DataFrame[officialposition: string]"
      ]
     },
     "execution_count": 14,
     "metadata": {},
     "output_type": "execute_result"
    }
   ],
   "source": [
    "# Let's try making a new column that has the full position\n",
    "players.select('officialposition')\n",
    "#players.withColumn('positionName')"
   ]
  }
 ],
 "metadata": {
  "kernelspec": {
   "display_name": "Python 3.9.7 64-bit",
   "language": "python",
   "name": "python3"
  },
  "language_info": {
   "codemirror_mode": {
    "name": "ipython",
    "version": 3
   },
   "file_extension": ".py",
   "mimetype": "text/x-python",
   "name": "python",
   "nbconvert_exporter": "python",
   "pygments_lexer": "ipython3",
   "version": "3.9.7"
  },
  "orig_nbformat": 4,
  "vscode": {
   "interpreter": {
    "hash": "a7a49970c4512c0722528751db23d666149f0368bc6c09b7f6ca5769874537f7"
   }
  }
 },
 "nbformat": 4,
 "nbformat_minor": 2
}
